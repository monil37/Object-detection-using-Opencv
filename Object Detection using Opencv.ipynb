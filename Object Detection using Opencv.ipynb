{
 "cells": [
  {
   "cell_type": "markdown",
   "metadata": {},
   "source": [
    "# COLOR Detection using opencv"
   ]
  },
  {
   "cell_type": "code",
   "execution_count": 1,
   "metadata": {},
   "outputs": [],
   "source": [
    "import cv2\n",
    "import numpy as np"
   ]
  },
  {
   "cell_type": "code",
   "execution_count": 8,
   "metadata": {},
   "outputs": [],
   "source": [
    "def nothing(X):\n",
    "    pass\n",
    "cv2.namedWindow(\"Tracking\")\n",
    "cv2.createTrackbar(\"LH\",\"Tracking\",0,255,nothing)\n",
    "cv2.createTrackbar(\"LS\",\"Tracking\",0,255,nothing)\n",
    "cv2.createTrackbar(\"LV\",\"Tracking\",0,255,nothing)\n",
    "cv2.createTrackbar(\"UH\",\"Tracking\",255,255,nothing)\n",
    "cv2.createTrackbar(\"US\",\"Tracking\",255,255,nothing)\n",
    "cv2.createTrackbar(\"UV\",\"Tracking\",255,255,nothing)\n",
    "\n",
    "while True:\n",
    "    frame=cv2.imread(\"C:\\\\Users\\\\admin\\\\Desktop\\\\Object detection using opencv\\\\smarties1.jpg\")\n",
    "    resize=cv2.resize(frame,(int(frame.shape[1]/5),int(frame.shape[0]/5)))\n",
    "    hsv=cv2.cvtColor(resize,cv2.COLOR_BGR2HSV)\n",
    "    l_h=cv2.getTrackbarPos(\"LH\",\"Tracking\")\n",
    "    l_s=cv2.getTrackbarPos(\"LS\",\"Tracking\")\n",
    "    l_v=cv2.getTrackbarPos(\"LV\",\"Tracking\")\n",
    "    \n",
    "    u_h=cv2.getTrackbarPos(\"UH\",\"Tracking\")\n",
    "    u_s=cv2.getTrackbarPos(\"US\",\"Tracking\")\n",
    "    u_v=cv2.getTrackbarPos(\"UV\",\"Tracking\")\n",
    "    \n",
    "    l_b=np.array([l_h,l_s,l_v])\n",
    "    u_b=np.array([u_h,u_s,u_v])\n",
    "    \n",
    "    mask=cv2.inRange(hsv,l_b,u_b)\n",
    "    \n",
    "    res=cv2.bitwise_and(resize,resize,mask=mask)\n",
    "    \n",
    "    \n",
    "    cv2.imshow(\"Smarties\",resize)\n",
    "    cv2.imshow(\"mask\",mask)\n",
    "    cv2.imshow(\"res\",res)\n",
    "    key=cv2.waitKey(1)\n",
    "    if key == 27: #27-ESC key\n",
    "        break\n",
    "cv2.destroyAllWindows()\n",
    "    "
   ]
  },
  {
   "cell_type": "markdown",
   "metadata": {},
   "source": [
    "# Object detection using CV"
   ]
  },
  {
   "cell_type": "code",
   "execution_count": 9,
   "metadata": {},
   "outputs": [],
   "source": [
    "import cv2\n",
    "import numpy as np"
   ]
  },
  {
   "cell_type": "code",
   "execution_count": 12,
   "metadata": {},
   "outputs": [],
   "source": [
    "def nothing(X):\n",
    "    pass\n",
    "video=cv2.VideoCapture(0)\n",
    "cv2.namedWindow(\"Tracking\")\n",
    "cv2.createTrackbar(\"LH\",\"Tracking\",0,255,nothing)\n",
    "cv2.createTrackbar(\"LS\",\"Tracking\",0,255,nothing)\n",
    "cv2.createTrackbar(\"LV\",\"Tracking\",0,255,nothing)\n",
    "cv2.createTrackbar(\"UH\",\"Tracking\",255,255,nothing)\n",
    "cv2.createTrackbar(\"US\",\"Tracking\",255,255,nothing)\n",
    "cv2.createTrackbar(\"UV\",\"Tracking\",255,255,nothing)\n",
    "\n",
    "while True:\n",
    "    #frame=cv2.imread(\"C:\\\\Users\\\\admin\\\\Desktop\\\\train image\\\\smarties1.jpg\")\n",
    "    check,frame=video.read()\n",
    "    resize=cv2.resize(frame,(int(frame.shape[1]),int(frame.shape[0])))\n",
    "    hsv=cv2.cvtColor(resize,cv2.COLOR_BGR2HSV)\n",
    "    l_h=cv2.getTrackbarPos(\"LH\",\"Tracking\")\n",
    "    l_s=cv2.getTrackbarPos(\"LS\",\"Tracking\")\n",
    "    l_v=cv2.getTrackbarPos(\"LV\",\"Tracking\")\n",
    "    \n",
    "    u_h=cv2.getTrackbarPos(\"UH\",\"Tracking\")\n",
    "    u_s=cv2.getTrackbarPos(\"US\",\"Tracking\")\n",
    "    u_v=cv2.getTrackbarPos(\"UV\",\"Tracking\")\n",
    "    \n",
    "    l_b=np.array([l_h,l_s,l_v])\n",
    "    u_b=np.array([u_h,u_s,u_v])\n",
    "    \n",
    "    mask=cv2.inRange(hsv,l_b,u_b)\n",
    "    \n",
    "    res=cv2.bitwise_and(resize,resize,mask=mask)\n",
    "    \n",
    "    \n",
    "    cv2.imshow(\"Green\",resize)\n",
    "    cv2.imshow(\"mask\",mask)\n",
    "    cv2.imshow(\"res\",res)\n",
    "    key=cv2.waitKey(1)\n",
    "    if key == 27: #27-ESC key\n",
    "        break\n",
    "        \n",
    "video.release()\n",
    "cv2.destroyAllWindows()\n",
    "    "
   ]
  },
  {
   "cell_type": "code",
   "execution_count": null,
   "metadata": {},
   "outputs": [],
   "source": []
  }
 ],
 "metadata": {
  "kernelspec": {
   "display_name": "Python 2",
   "language": "python",
   "name": "python2"
  },
  "language_info": {
   "codemirror_mode": {
    "name": "ipython",
    "version": 2
   },
   "file_extension": ".py",
   "mimetype": "text/x-python",
   "name": "python",
   "nbconvert_exporter": "python",
   "pygments_lexer": "ipython2",
   "version": "2.7.16"
  }
 },
 "nbformat": 4,
 "nbformat_minor": 2
}
